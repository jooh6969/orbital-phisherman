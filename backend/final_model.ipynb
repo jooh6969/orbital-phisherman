{
 "cells": [
  {
   "cell_type": "code",
   "execution_count": null,
   "id": "43461b54",
   "metadata": {},
   "outputs": [],
   "source": [
    "# Ensure scikit-learn is installed\n",
    "from sklearn.ensemble import RandomForestClassifier\n",
    "import pickle\n",
    "from sklearn.model_selection import train_test_split\n",
    "import numpy as np\n",
    "import matplotlib.pyplot as plt\n",
    "import pandas as pd\n",
    "from sklearn.preprocessing import StandardScaler\n",
    "from sklearn.metrics import accuracy_score,recall_score,precision_score,confusion_matrix,classification_report\n",
    "from sklearn.feature_selection import SelectFromModel"
   ]
  },
  {
   "cell_type": "code",
   "execution_count": null,
   "id": "9920cc02",
   "metadata": {},
   "outputs": [],
   "source": [
    "df = pd.read_csv(r\"C:\\Users\\stanl\\anaconda_projects\\orbital_ml\\dataset_phishing.csv\")\n"
   ]
  },
  {
   "cell_type": "code",
   "execution_count": null,
   "id": "d7a311f3",
   "metadata": {},
   "outputs": [],
   "source": [
    "df.dropna(inplace=True)\n",
    "df['status'] = df['status'].map({'phishing' : 1, 'legitimate' : 0})"
   ]
  },
  {
   "cell_type": "code",
   "execution_count": null,
   "id": "381c8137",
   "metadata": {},
   "outputs": [],
   "source": [
    "features_df = df.iloc[:, 1:90]\n",
    "features_df"
   ]
  },
  {
   "cell_type": "code",
   "execution_count": null,
   "id": "189ccdc9",
   "metadata": {},
   "outputs": [],
   "source": [
    "corr_matrix = features_df.corr()\n",
    "status_cor = corr_matrix['status']"
   ]
  },
  {
   "cell_type": "code",
   "execution_count": null,
   "id": "ee978741",
   "metadata": {},
   "outputs": [],
   "source": [
    "def feature_selector (corr_matrix, threshold):\n",
    "    selected_features = []\n",
    "    feature_score = []\n",
    "    for idx, score in enumerate(corr_matrix):\n",
    "        if (abs(score) > threshold):\n",
    "            selected_features.append(corr_matrix.index[idx])\n",
    "            feature_score.append(['{:3f}'.format(score)])\n",
    "    result = list(zip(selected_features, feature_score))\n",
    "    return result"
   ]
  },
  {
   "cell_type": "code",
   "execution_count": null,
   "id": "6ca3bb7a",
   "metadata": {},
   "outputs": [],
   "source": [
    "features_selected_02 = feature_selector(status_cor, 0.2)\n",
    "features_selected_02\n",
    "\n"
   ]
  },
  {
   "cell_type": "code",
   "execution_count": null,
   "id": "63e9e1e0",
   "metadata": {},
   "outputs": [],
   "source": [
    "feature_name = []\n",
    "for feature, score in features_selected_02:\n",
    "    if feature != 'status':\n",
    "        feature_name.append(feature)\n",
    "\n",
    "# feature_name = feature_name[0:15]\n",
    "feature_name"
   ]
  },
  {
   "cell_type": "code",
   "execution_count": null,
   "id": "02a83db5",
   "metadata": {},
   "outputs": [],
   "source": [
    "\n",
    "X = df[feature_name]\n",
    "y = df['status']\n",
    "X_train, X_test, y_train, y_test = train_test_split(X, y, test_size=0.25, random_state=42, shuffle=True)\n",
    "scaler = StandardScaler()\n",
    "X_train_scaled = scaler.fit_transform(X_train)\n",
    "X_test_scaled = scaler.transform(X_test)\n"
   ]
  },
  {
   "cell_type": "code",
   "execution_count": null,
   "id": "adc69458",
   "metadata": {},
   "outputs": [],
   "source": [
    "clf = RandomForestClassifier(\n",
    "    max_depth=20,\n",
    "    n_estimators=100,\n",
    "    random_state=42 \n",
    ")\n",
    "\n",
    "clf.fit(X_train_scaled, y_train)\n",
    "\n",
    "y_pred = clf.predict(X_test_scaled)\n",
    "test_accuracy = accuracy_score(y_test, y_pred)\n",
    "test_accuracy"
   ]
  },
  {
   "cell_type": "code",
   "execution_count": null,
   "id": "663be16b",
   "metadata": {},
   "outputs": [
    {
     "name": "stdout",
     "output_type": "stream",
     "text": [
      "Selected features: [ 0  7 14 15 16 17 20 21 22]\n",
      "slice(0, 8, None)\n",
      "First 8 selected features: ['length_url', 'nb_www', 'longest_word_path', 'phish_hints', 'nb_hyperlinks', 'ratio_intHyperlinks', 'domain_age', 'google_index']\n",
      "Accuracy after feature selection: 0.9422673198040588\n"
     ]
    }
   ],
   "source": [
    "selector = SelectFromModel(clf, threshold=0.03)\n",
    "X_train_selected = selector.fit_transform(X_train_scaled, y_train)\n",
    "X_test_selected = selector.transform(X_test_scaled)\n",
    "print(\"Selected features:\", selector.get_support(indices=True))\n",
    "selected_indices = selector.get_support(indices=True)\n",
    "filt_idx = slice(0, 8)\n",
    "print(filt_idx)\n",
    "print(\"First 8 selected features:\", [feature_name[idx] for idx in selected_indices[:8]])\n",
    "\n",
    "X_train_selected = X_train_selected[:, filt_idx]\n",
    "X_test_selected = X_test_selected[:, filt_idx]\n",
    "\n",
    "clf_selected = RandomForestClassifier(max_depth=20, n_estimators=100,random_state=42)\n",
    "clf_selected.fit(X_train_selected, y_train)\n",
    "y_pred = clf_selected.predict(X_test_selected)\n",
    "accuracy = accuracy_score(y_test, y_pred)\n",
    "print(\"Accuracy after feature selection:\", accuracy)"
   ]
  },
  {
   "cell_type": "markdown",
   "id": "aa755792",
   "metadata": {},
   "source": [
    "With the 8 selected features, 'length_url', 'nb_www', 'longest_word_path', 'phish_hints', 'nb_hyperlinks', 'ratio_intHyperlinks', 'domain_age', 'google_index'. We are able to achieve a accuracy score of 94.2% "
   ]
  },
  {
   "cell_type": "code",
   "execution_count": 94,
   "id": "93971951",
   "metadata": {},
   "outputs": [],
   "source": [
    "with open(\"phishing_model.pkl\", \"wb\") as f:\n",
    "    pickle.dump(clf_selected, f)"
   ]
  }
 ],
 "metadata": {
  "kernelspec": {
   "display_name": "base",
   "language": "python",
   "name": "python3"
  },
  "language_info": {
   "codemirror_mode": {
    "name": "ipython",
    "version": 3
   },
   "file_extension": ".py",
   "mimetype": "text/x-python",
   "name": "python",
   "nbconvert_exporter": "python",
   "pygments_lexer": "ipython3",
   "version": "3.12.7"
  }
 },
 "nbformat": 4,
 "nbformat_minor": 5
}
